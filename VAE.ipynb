{
 "cells": [
  {
   "cell_type": "code",
   "execution_count": 39,
   "id": "883ca8c0",
   "metadata": {},
   "outputs": [
    {
     "name": "stdout",
     "output_type": "stream",
     "text": [
      "z size: torch.Size([])\n",
      "log pz size: torch.Size([])\n",
      "tensor(0.7183)\n"
     ]
    }
   ],
   "source": [
    "import torch\n",
    "\n",
    "q = torch.distributions.Normal(1, 2)\n",
    "#sample with reparameterization trick\n",
    "z = q.rsample()\n",
    "#print(z)\n",
    "\n",
    "p = torch.distributions.Normal(0, 1)\n",
    "#q = torch.distributions.Normal(2, 4)\n",
    "\n",
    "print(f\"z size: {z.size()}\")\n",
    "\n",
    "log_pz = p.log_prob(z)\n",
    "log_qzx = q.log_prob(z)\n",
    "\n",
    "print(f\"log pz size: {log_pz.size()}\")\n",
    "\n",
    "#print('log prob pz: ', log_pz, 'prob:', torch.exp(log_pz))\n",
    "#print('log prob qzx: ', log_qzx, 'prob:', torch.exp(log_qzx))\n",
    "\n",
    "kl_divergence = torch.mean(log_pz - log_qzx, 0)\n",
    "print(kl_divergence)"
   ]
  },
  {
   "cell_type": "markdown",
   "id": "44e8e76e",
   "metadata": {},
   "source": [
    "We make use of Variational Inference to approximate the \"true\" posterior of the latent space $p(z|x)$ with an auxiliary distribution $q(z|x)$ by minimizing the KL Divergence between these two distribution:\n",
    "$$ D_{KL}(q(z|x)||p(z|x)) = \\sum q(z|x) \\log \\frac{q(z|x)}{p(z|x)} $$\n",
    "\n",
    "We use a neural network to parameterize $q(z|x)$ such that we can minimize the $D_{KL}$ by training the network. $q(z|x)$ becomes our encoder that outputs the parameter $\\theta$ of our distribution $q(z|x) = q_{\\theta}(z|x)$. \n",
    "\n",
    "Recap the posterior is defined as (Bayes´ Rule):\n",
    "\n",
    "$$\n",
    "p(z|x) = \\frac{Likelihood * Prior}{Marginal Distribution}=\\frac{p(x|z)p(z)}{p(x)}\n",
    "$$"
   ]
  },
  {
   "cell_type": "markdown",
   "id": "92885739",
   "metadata": {},
   "source": [
    "We can derive the ELBO Loss from $D_{KL}(q(z|x)||p(z|x))$ which will be our overall loss function for our VAE:\n",
    "\\begin{align}\n",
    "D_{KL}(q(z|x)||p(z|x)) &= \\sum q(z|x) \\log \\frac{q(z|x)}{p(z|x)}\\\\\n",
    "&= -\\sum q(z|x) \\log \\frac{p(z|x)}{q(z|x)}\\\\\n",
    "&= -\\sum q(z|x)  \\left[\\log p(z|x) - \\log q(z|x) \\right]\\\\\n",
    "&= -\\sum q(z|x) \\left[\\log \\frac{p(x|z)p(z)}{p(x)} - \\log q(z|x) \\right]\\\\\n",
    "&= -\\sum q(z|x) \\left[\\log p(x|z) + \\log p(z) - \\log p(x) - \\log q(z|x) \\right]\\\\\n",
    "&= \\sum q(z|x) \\left[-\\log p(x|z) - \\log p(z) + \\log p(x) + \\log q(z|x) \\right]\\\\\n",
    "D_{KL}(q(z|x)||p(z|x)) - \\sum q(z|x) \\left[-\\log p(x|z) - \\log p(z) + \\log q(z|x) \\right] &= \\log p(x)\\\\\n",
    "-\\sum q(z|x) \\left[-\\log p(x|z) + \\log \\frac{q(z|x)}{p(z)} \\right] &= \\\\\n",
    "-\\mathbb{E}_{z \\sim q(z|x)} \\left[-\\log p(x|z) + \\log \\frac{q(z|x)}{p(z)} \\right] &=\\\\\n",
    "-\\mathbb{E}_{q} \\left[-\\log p(x|z) + \\log \\frac{q(z|x)}{p(z)} \\right] &=\\\\\n",
    "\\mathbb{E}_{q} \\left[\\log p(x|z) - \\log \\frac{q(z|x)}{p(z)} \\right] &=\\\\\n",
    "D_{KL}(q(z|x)||p(z|x)) + \\left[ \\mathbb{E}_{q} \\log p(x|z)  - \\mathbb{E}_{q}  \\log \\frac{q(z|x)}{p(z)} \\right] &= \\log p(x)\\\\\n",
    "D_{KL}(q(z|x)||p(z|x)) + Variational Lower Bound (ELBO) &= \\log p(x) \\\\\n",
    "ELBO &= \\log p(x) - D_{KL}(q(z|x)||p(z|x)) \\\\\n",
    "\\left[ \\mathbb{E}_{q} \\log p(x|z)  - \\mathbb{E}_{q}  \\log \\frac{q(z|x)}{p(z)} \\right] &= \\log p(x) - D_{KL}(q(z|x)||p(z|x)) \\\\\n",
    "\\left[ \\mathbb{E}_{q} \\log p(x|z)  - \\mathbb{E}_{q}[ \\log q(z|x) - \\log p(z)] \\right] &= \\log p(x) - D_{KL}(q(z|x)||p(z|x)) \\\\\n",
    "\\left[ \\mathbb{E}_{q} \\log p(x|z)  - D_{KL}(q(x|z)||p(z)) \\right] &= \\log p(x) - D_{KL}(q(z|x)||p(z|x))   \\leq \\log p(x) \\\\\n",
    "\\end{align}\n",
    "\n",
    "So if we maximize ELBO this corresponding to maximizing the log probability of generating real data samples $\\log p(x)$ (lower bound) which is reduced by the divergence of our \"true\" and approximate distribution. Maximizing ELBO is same as minizing the negative ELBO:\n",
    "$$ max(ELBO) = max \\left( \\mathbb{E}_{q} \\log p(x|z)  - D_{KL}(q(x|z)||p(z)) \\right) \n",
    "             = min \\left((D_{KL}(q(x|z)||p(z)) - \\mathbb{E}_{q} \\log p(x|z) \\right) = min(-ELBO) $$"
   ]
  },
  {
   "cell_type": "code",
   "execution_count": null,
   "id": "54d71785",
   "metadata": {},
   "outputs": [],
   "source": [
    "def kl_divergence(z, mu, std):\n",
    "    \"\"\"\n",
    "    Monte Carlo KL Divergence \n",
    "    \"\"\"\n",
    "    #TODO: Change p from n indep. Gaussians to one Multivariant Gaussian with mu and covariance matrix\n",
    "    \n",
    "    # Standard Gaussian as target distribution\n",
    "    p = torch.distributions.Normal(torch.zeros_like(mu), torch.ones_like(std))\n",
    "    # Auxiliary distribution\n",
    "    q = torch.distributions.Normal(mu, std)\n",
    "    \n",
    "    \n",
    "    # KL Divergence according to our ELBO derivation\n",
    "    kl = (q.log_prob(z) - p.log_prob(z))\n",
    "    \n",
    "    # trick to sum over last dimension as sampling from multivariant gaussian \n",
    "    return kl.sum(-1)\n",
    "\n"
   ]
  },
  {
   "cell_type": "markdown",
   "id": "4e4fe282",
   "metadata": {},
   "source": [
    "Reconstruction Loss ..."
   ]
  },
  {
   "cell_type": "code",
   "execution_count": null,
   "id": "ae63e71a",
   "metadata": {},
   "outputs": [],
   "source": [
    "def reconstruction_loss(x_hat, logscale, x):\n",
    "    \"\"\"\n",
    "    Reconstruction Loss as Regularization\n",
    "    \"\"\"\n",
    "    scale = torch.exp(logscale)\n",
    "    mean = x_hat\n",
    "    dist = torch.distributions.Normal(mean, scale)\n",
    "    \n",
    "    return dist.log_prob(x).sum(dim=(1,2,3))"
   ]
  }
 ],
 "metadata": {
  "kernelspec": {
   "display_name": "Python 3 (ipykernel)",
   "language": "python",
   "name": "python3"
  },
  "language_info": {
   "codemirror_mode": {
    "name": "ipython",
    "version": 3
   },
   "file_extension": ".py",
   "mimetype": "text/x-python",
   "name": "python",
   "nbconvert_exporter": "python",
   "pygments_lexer": "ipython3",
   "version": "3.10.8"
  }
 },
 "nbformat": 4,
 "nbformat_minor": 5
}
